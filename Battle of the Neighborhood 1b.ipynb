{
    "cells": [
        {
            "cell_type": "markdown",
            "metadata": {
                "collapsed": true
            },
            "source": "# A description of the data and how it will be used to solve the problem."
        },
        {
            "cell_type": "markdown",
            "metadata": {},
            "source": "## Data Requirements"
        },
        {
            "cell_type": "markdown",
            "metadata": {},
            "source": "1.) This is a list from Wikipedia of Toronto neighborhoods broken down according to the postal code\nhttps://en.wikipedia.org/wiki/List_of_postal_codes_of_Canada:_M"
        },
        {
            "cell_type": "markdown",
            "metadata": {},
            "source": "2.) List of the average population in Toronto neighborhoods by postal code\nhttps://www12.statcan.gc.ca/census-recensement/2016/dp-pd/hlt-fst/pd-pl/Tables/File.cfm?T=1201&SR=1&RPP=9999&PR=0&CMA=0&CSD=0&S=22&O=A&Lang=Eng&OFT=CSV"
        },
        {
            "cell_type": "markdown",
            "metadata": {},
            "source": "3.) List of averge income after Tax deductions in Toronto neighborhoods according to postal code.\nhttps://www12.statcan.gc.ca/census-recensement/2016/dp-pd/prof/search-recherche/change-geo.cfm?Lang=E&Geo1=FSA"
        },
        {
            "cell_type": "markdown",
            "metadata": {},
            "source": "4.) This is the National Average Income after Tax in Canada by Postal code\nhttps://www150.statcan.gc.ca/n1/daily-quotidien/180313/dq180313a-eng.htm"
        },
        {
            "cell_type": "markdown",
            "metadata": {},
            "source": "5.) Here we can get the list of all Grocery Stores from all neighborhoods in Toronto by Postal code using th foursqaure API \nhttps://api.foursquare.com"
        },
        {
            "cell_type": "markdown",
            "metadata": {},
            "source": "6.) Put all of these information into a workable Data Set for clustering and for Geo-Spatial mapping of the results showing the best neighborhood to open a Grocery Store\n\n Combining all of these data sets will result the following:\n\n  a. which neighborhoods in Toronto have clusters of stores\n \n  b. The population of every neighborhood\n \n  c. the average income after tax per person in these neighborhoods\n \n  d. which neighborhood should be targetted by Blenco inorder to open a new store."
        }
    ],
    "metadata": {
        "kernelspec": {
            "display_name": "Python 3.7",
            "language": "python",
            "name": "python3"
        },
        "language_info": {
            "codemirror_mode": {
                "name": "ipython",
                "version": 3
            },
            "file_extension": ".py",
            "mimetype": "text/x-python",
            "name": "python",
            "nbconvert_exporter": "python",
            "pygments_lexer": "ipython3",
            "version": "3.7.10"
        }
    },
    "nbformat": 4,
    "nbformat_minor": 1
}