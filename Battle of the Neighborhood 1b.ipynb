{
    "cells": [
        {
            "cell_type": "markdown",
            "metadata": {
                "collapsed": true
            },
            "source": "# A description of the data and how it will be used to solve the problem."
        },
        {
            "cell_type": "markdown",
            "metadata": {},
            "source": "## Data Requirements"
        },
        {
            "cell_type": "markdown",
            "metadata": {},
            "source": "1. We will need a list of Toronto neighborhoods broken down by postal code.\nStart by finding a list of Toronto Neighborhoods with postal code from Wikipedia and load this data as my working base.\nhttps://en.wikipedia.org/wiki/List_of_postal_codes_of_Canada:_M"
        },
        {
            "cell_type": "markdown",
            "metadata": {},
            "source": "2. We will need a list of Toronto neighborhoods populations broken down by postal code\u00b6\nImport a list of populations by postal code\nhttps://www12.statcan.gc.ca/census-recensement/2016/dp-pd/hlt-fst/pd-pl/Tables/File.cfm?T=1201&SR=1&RPP=9999&PR=0&CMA=0&CSD=0&S=22&O=A&Lang=Eng&OFT=CSV"
        },
        {
            "cell_type": "markdown",
            "metadata": {},
            "source": "3. We will need a list of Toronto neighborhoods average after tax income broken down by postal code.\nHere we must manually download these from Stats Canada and load them.\nhttps://www12.statcan.gc.ca/census-recensement/2016/dp-pd/prof/search-recherche/change-geo.cfm?Lang=E&Geo1=FSA\nSee: to_geo_space.csv"
        },
        {
            "cell_type": "markdown",
            "metadata": {},
            "source": "4. What is the Canadian National Average After Tax Income by Postal code\nHere we must also manually download this from Stats Canada and load them.\nhttps://www150.statcan.gc.ca/n1/daily-quotidien/180313/dq180313a-eng.htm\nCanadian families and unattached individuals had a median after-tax income"
        },
        {
            "cell_type": "markdown",
            "metadata": {},
            "source": "5. We will need a list of all Grocery Stores from all neighborhoods in Toronto by Postal code\nWe use 4SQUARE API to download all venues from all neighborhoods in Toronto. \nhttps://api.foursquare.com\nExtract stores and only include stores in our Data Set."
        },
        {
            "cell_type": "markdown",
            "metadata": {},
            "source": "6. Combine all of these into a working Data Set to cluster and geo spatial map of the results showing the best neighborhood to open a Grocery Store\n\n Combining all of these disparate data sets will clearly demonstrate the following:\n\n  a. which neighborhoods in Toronto have clusters of like stores\n \n  b. how populated each neighborhoods is\n \n  c. the average after tax income is all of these neighborhoods\n \n  d. which neighborhood should he target for Blenco to open a new store."
        }
    ],
    "metadata": {
        "kernelspec": {
            "display_name": "Python 3.7",
            "language": "python",
            "name": "python3"
        },
        "language_info": {
            "codemirror_mode": {
                "name": "ipython",
                "version": 3
            },
            "file_extension": ".py",
            "mimetype": "text/x-python",
            "name": "python",
            "nbconvert_exporter": "python",
            "pygments_lexer": "ipython3",
            "version": "3.7.10"
        }
    },
    "nbformat": 4,
    "nbformat_minor": 1
}