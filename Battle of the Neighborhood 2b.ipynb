{
    "cells": [
        {
            "cell_type": "markdown",
            "metadata": {
                "collapsed": true
            },
            "source": "# Battle of the Neighborhood Code"
        },
        {
            "cell_type": "markdown",
            "metadata": {},
            "source": "### Load all the Data from all the various sources"
        },
        {
            "cell_type": "markdown",
            "metadata": {},
            "source": "Toronto neighborhoods by postal code"
        },
        {
            "cell_type": "code",
            "execution_count": 2,
            "metadata": {},
            "outputs": [
                {
                    "data": {
                        "text/html": "<div>\n<style scoped>\n    .dataframe tbody tr th:only-of-type {\n        vertical-align: middle;\n    }\n\n    .dataframe tbody tr th {\n        vertical-align: top;\n    }\n\n    .dataframe thead th {\n        text-align: right;\n    }\n</style>\n<table border=\"1\" class=\"dataframe\">\n  <thead>\n    <tr style=\"text-align: right;\">\n      <th></th>\n      <th>PostalCode</th>\n      <th>Bourough</th>\n      <th>Neighborhood</th>\n    </tr>\n  </thead>\n  <tbody>\n    <tr>\n      <th>0</th>\n      <td>M1HScarborough(Cedarbrae)</td>\n      <td>M2HNorth York(Hillcrest Village)</td>\n      <td>M3HNorth York(Bathurst Manor / Wilson Heights ...</td>\n    </tr>\n    <tr>\n      <th>1</th>\n      <td>M1JScarborough(Scarborough Village)</td>\n      <td>M2JNorth York(Fairview / Henry Farm / Oriole)</td>\n      <td>M3JNorth York(Northwood Park / York University)</td>\n    </tr>\n    <tr>\n      <th>2</th>\n      <td>M1KScarborough(Kennedy Park / Ionview / East B...</td>\n      <td>M2KNorth York(Bayview Village)</td>\n      <td>M3KNorth York(Downsview)East (CFB Toronto)</td>\n    </tr>\n    <tr>\n      <th>3</th>\n      <td>M1LScarborough(Golden Mile / Clairlea / Oakridge)</td>\n      <td>M2LNorth York(York Mills / Silver Hills)</td>\n      <td>M3LNorth York(Downsview)West</td>\n    </tr>\n    <tr>\n      <th>4</th>\n      <td>M1MScarborough(Cliffside / Cliffcrest / Scarbo...</td>\n      <td>M2MNorth York(Willowdale / Newtonbrook)</td>\n      <td>M3MNorth York(Downsview)Central</td>\n    </tr>\n  </tbody>\n</table>\n</div>",
                        "text/plain": "                                          PostalCode  \\\n0                          M1HScarborough(Cedarbrae)   \n1                M1JScarborough(Scarborough Village)   \n2  M1KScarborough(Kennedy Park / Ionview / East B...   \n3  M1LScarborough(Golden Mile / Clairlea / Oakridge)   \n4  M1MScarborough(Cliffside / Cliffcrest / Scarbo...   \n\n                                        Bourough  \\\n0               M2HNorth York(Hillcrest Village)   \n1  M2JNorth York(Fairview / Henry Farm / Oriole)   \n2                 M2KNorth York(Bayview Village)   \n3       M2LNorth York(York Mills / Silver Hills)   \n4        M2MNorth York(Willowdale / Newtonbrook)   \n\n                                        Neighborhood  \n0  M3HNorth York(Bathurst Manor / Wilson Heights ...  \n1    M3JNorth York(Northwood Park / York University)  \n2         M3KNorth York(Downsview)East (CFB Toronto)  \n3                       M3LNorth York(Downsview)West  \n4                    M3MNorth York(Downsview)Central  "
                    },
                    "execution_count": 2,
                    "metadata": {},
                    "output_type": "execute_result"
                }
            ],
            "source": "# Load the required libraries\nimport numpy as np\nimport pandas as pd\nimport requests\nfrom bs4 import BeautifulSoup\n\n# Found the table using beautifulsoup and used Pandas to read it in. \nres = requests.get('https://en.wikipedia.org/wiki/List_of_postal_codes_of_Canada:_M')\nsoup = BeautifulSoup(res.content,'lxml')\ntable = soup.find_all('table')[0] \ndf = pd.read_html(str(table))\n\n\n# WRANGLE/Transform THE DATA\n# Convert the list back into a dataframe\ndata = pd.DataFrame(df[0])\n\n# Rename the columns as instructed\ndata = data.rename(columns={0:'PostalCode', 1:'Bourough', 2:'Neighborhood'})\n\n# Get rid of the first row which contained the table headers from the webpage\ndata = data.iloc[1:]\n\n\n# Only process the cells that have an assigned borough. Ignore cells with a borough that is Not assigned.\ndata = data[~data['Bourough'].str.contains('Not assigned')]\n\n\n# More than one neighborhood can exist in one postal code area. \n#For example, in the table on the Wikipedia page, you will notice \n#that M5A is listed twice and has two neighborhoods: Harbourfront \n#and Regent Park. These two rows will be combined into one row with \n#the neighborhoods separated with a comma\ndf2=data.groupby(['PostalCode', 'Bourough']).apply(lambda group: ', '.join(group['Neighborhood']))\n\n\n# Convert the Series back into a DataFrame and put the 'Neighbourhood' column label back in\ndf2=df2.to_frame().reset_index()\ndf2 = df2.rename(columns={0:'Neighborhood'})\n\n# If a cell has a borough but a Not assigned neighborhood, then the neighborhood will be the same as the borough.\ndf2.loc[df2.Neighborhood == 'Not assigned', 'Neighborhood' ] = df2.Bourough\n\n# Display the DataFrame\ndf2.head()"
        },
        {
            "cell_type": "markdown",
            "metadata": {},
            "source": "### Toronto geospatial cooridinates with Toronto Postal Code Data loaded from csv file"
        },
        {
            "cell_type": "code",
            "execution_count": 3,
            "metadata": {},
            "outputs": [
                {
                    "name": "stdout",
                    "output_type": "stream",
                    "text": "--2021-05-29 18:19:16--  http://cocl.us/Geospatial_data\nResolving cocl.us (cocl.us)... 52.116.122.240, 52.116.127.25\nConnecting to cocl.us (cocl.us)|52.116.122.240|:80... connected.\nHTTP request sent, awaiting response... 308 Permanent Redirect\nLocation: https://cocl.us/Geospatial_data [following]\n--2021-05-29 18:19:17--  https://cocl.us/Geospatial_data\nConnecting to cocl.us (cocl.us)|52.116.122.240|:443... connected.\nHTTP request sent, awaiting response... 301 Moved Permanently\nLocation: https://ibm.box.com/shared/static/9afzr83pps4pwf2smjjcf1y5mvgb18rr.csv [following]\n--2021-05-29 18:19:18--  https://ibm.box.com/shared/static/9afzr83pps4pwf2smjjcf1y5mvgb18rr.csv\nResolving ibm.box.com (ibm.box.com)... 107.152.29.197\nConnecting to ibm.box.com (ibm.box.com)|107.152.29.197|:443... connected.\nHTTP request sent, awaiting response... 301 Moved Permanently\nLocation: /public/static/9afzr83pps4pwf2smjjcf1y5mvgb18rr.csv [following]\n--2021-05-29 18:19:18--  https://ibm.box.com/public/static/9afzr83pps4pwf2smjjcf1y5mvgb18rr.csv\nReusing existing connection to ibm.box.com:443.\nHTTP request sent, awaiting response... 301 Moved Permanently\nLocation: https://ibm.ent.box.com/public/static/9afzr83pps4pwf2smjjcf1y5mvgb18rr.csv [following]\n--2021-05-29 18:19:18--  https://ibm.ent.box.com/public/static/9afzr83pps4pwf2smjjcf1y5mvgb18rr.csv\nResolving ibm.ent.box.com (ibm.ent.box.com)... 185.235.236.201\nConnecting to ibm.ent.box.com (ibm.ent.box.com)|185.235.236.201|:443... connected.\nHTTP request sent, awaiting response... 302 Found\nLocation: https://public.boxcloud.com/d/1/b1!QcJ90smnG4GC9gbFRVoCRCAZ2jRq3ZldkDgdn4jG7JhrlZVNpTSVHkdS1B_wn7A_-I_Id53kzKhbn17uXcAFzNDahOsAcvpSiGTW9QsYkYqU3At2SfZWGauoATcHv2YIroReLDCvJDrnIpgq5rqq6dpL6hO3QkdfPJrYdluWHZSMIh5IS8DMik1wz2rVmzTLWlOjKjTPfDeoJP6w-yj85TsSXcRE8Qi3xAkiT3Hdg3kNSC5IFGmglXHfv4pJwaJWRKil_OIilLnjhnQM0nVz5tUVP_Nq340LUpi1EVZWRf_PokctriDapocTPlYJRjKPN8-hD191Eg07l4DsHnM7dqzMCadQHtnGGq5stJ60YAON50wN07CB9i70bgHSvlnBHCbBfwHRQz0jV6LjItRGarj_kj4osfPHBpNcTlMYyLnrqwWqsvFLkTce07i7ICp2sGwIBo4k8-UBz_hjGj6CudbERSmGdLAcTeZKFSIw5Oneqf0eVe7nj-HbYAefetsM1Sv4PP0mCeeABaF3BmNY2pvYKXWQbhnPs72VZhZPpgHbKIL_9V91LMLtMFmSUsvh8SK3MRcw0c8EE_hyrO8Bnb6qXRT8CXkOFx6shgTz1IYNcxo7FRAVjSX6mg8uYjMJGQEC_r88jSBFxzeeW74rbg01fQ5NR4G72c2iO86vc6MUGT_dS6xd62m86sSfQncox9pgPbKgk7tcm0KIlc2ZNDMSQGqquPE6bB4V8guos-rk0y1WQjsAgpi5LWu2vuBG3PTRzH7J1uvg0jmkI7eNCBp3lFoBX987Ij8oBl4xZzXLqMhoFKwj1adiwL0fLSNKaS1tcZX8o1oCprT2f5HBx5sPrMJv1iAPSIpaCjfEsj5plVNKQsQjW7FSaN3wLwp7SgpbIclM0s_U4rTWgj6FYI6jyBxsP2LN_o3HzrMfbxFGZX_YivH9r_n9t2kpPqUc2FkBhByZ6T0ggpQaoOifq3rUBGEgWwdd8uQlYgMpSbRKMcpW6puzCXJb8Oavev7yClxh8Erc7x2J17UCj8N9F-WnhOPslQx4tkTD4SSL1GL9tX28FmryyACyYz1UR0L1R0AufVXJm1AD_hG2MgRcizoUFwGhUGspbQFwRrIo75W4w7JyewjlsEFNiYs933UPdlz-ijNe-Tv41GWI1qV0aMWFL2GvrjjIcMDVhjmt-EVUvcTRJeAGwViLcQy4583pIh26yfTp-atjtGqvgpQm0MijHQ6-RXvdCKT_lGahgSmCZ7Nxwt0vpcCXEfedBg6nx0vNfoNaV9vcgiQNiJLMpwso5EBHv6yNRXCzrTkJk0bWADODBn1Ii5ZmObBuGgzNHKL-1UG2BzQ6wYQZFJMXnd5xfN4-QQMOigU_6e5Q9BHMIEqXyKrA_zb2LW9qurAc_eJyCWMxJjrCsUzyiXx-b8nmjKuG6WLWt8VvkCZACkLM0Q../download [following]\n--2021-05-29 18:19:19--  https://public.boxcloud.com/d/1/b1!QcJ90smnG4GC9gbFRVoCRCAZ2jRq3ZldkDgdn4jG7JhrlZVNpTSVHkdS1B_wn7A_-I_Id53kzKhbn17uXcAFzNDahOsAcvpSiGTW9QsYkYqU3At2SfZWGauoATcHv2YIroReLDCvJDrnIpgq5rqq6dpL6hO3QkdfPJrYdluWHZSMIh5IS8DMik1wz2rVmzTLWlOjKjTPfDeoJP6w-yj85TsSXcRE8Qi3xAkiT3Hdg3kNSC5IFGmglXHfv4pJwaJWRKil_OIilLnjhnQM0nVz5tUVP_Nq340LUpi1EVZWRf_PokctriDapocTPlYJRjKPN8-hD191Eg07l4DsHnM7dqzMCadQHtnGGq5stJ60YAON50wN07CB9i70bgHSvlnBHCbBfwHRQz0jV6LjItRGarj_kj4osfPHBpNcTlMYyLnrqwWqsvFLkTce07i7ICp2sGwIBo4k8-UBz_hjGj6CudbERSmGdLAcTeZKFSIw5Oneqf0eVe7nj-HbYAefetsM1Sv4PP0mCeeABaF3BmNY2pvYKXWQbhnPs72VZhZPpgHbKIL_9V91LMLtMFmSUsvh8SK3MRcw0c8EE_hyrO8Bnb6qXRT8CXkOFx6shgTz1IYNcxo7FRAVjSX6mg8uYjMJGQEC_r88jSBFxzeeW74rbg01fQ5NR4G72c2iO86vc6MUGT_dS6xd62m86sSfQncox9pgPbKgk7tcm0KIlc2ZNDMSQGqquPE6bB4V8guos-rk0y1WQjsAgpi5LWu2vuBG3PTRzH7J1uvg0jmkI7eNCBp3lFoBX987Ij8oBl4xZzXLqMhoFKwj1adiwL0fLSNKaS1tcZX8o1oCprT2f5HBx5sPrMJv1iAPSIpaCjfEsj5plVNKQsQjW7FSaN3wLwp7SgpbIclM0s_U4rTWgj6FYI6jyBxsP2LN_o3HzrMfbxFGZX_YivH9r_n9t2kpPqUc2FkBhByZ6T0ggpQaoOifq3rUBGEgWwdd8uQlYgMpSbRKMcpW6puzCXJb8Oavev7yClxh8Erc7x2J17UCj8N9F-WnhOPslQx4tkTD4SSL1GL9tX28FmryyACyYz1UR0L1R0AufVXJm1AD_hG2MgRcizoUFwGhUGspbQFwRrIo75W4w7JyewjlsEFNiYs933UPdlz-ijNe-Tv41GWI1qV0aMWFL2GvrjjIcMDVhjmt-EVUvcTRJeAGwViLcQy4583pIh26yfTp-atjtGqvgpQm0MijHQ6-RXvdCKT_lGahgSmCZ7Nxwt0vpcCXEfedBg6nx0vNfoNaV9vcgiQNiJLMpwso5EBHv6yNRXCzrTkJk0bWADODBn1Ii5ZmObBuGgzNHKL-1UG2BzQ6wYQZFJMXnd5xfN4-QQMOigU_6e5Q9BHMIEqXyKrA_zb2LW9qurAc_eJyCWMxJjrCsUzyiXx-b8nmjKuG6WLWt8VvkCZACkLM0Q../download\nResolving public.boxcloud.com (public.boxcloud.com)... 107.152.29.200\nConnecting to public.boxcloud.com (public.boxcloud.com)|107.152.29.200|:443... connected.\nHTTP request sent, awaiting response... 200 OK\nLength: 2891 (2.8K) [text/csv]\nSaving to: \u2018to_geo_space.csv\u2019\n\nto_geo_space.csv    100%[===================>]   2.82K  --.-KB/s    in 0s      \n\n2021-05-29 18:19:20 (40.6 MB/s) - \u2018to_geo_space.csv\u2019 saved [2891/2891]\n\n"
                },
                {
                    "data": {
                        "text/html": "<div>\n<style scoped>\n    .dataframe tbody tr th:only-of-type {\n        vertical-align: middle;\n    }\n\n    .dataframe tbody tr th {\n        vertical-align: top;\n    }\n\n    .dataframe thead th {\n        text-align: right;\n    }\n</style>\n<table border=\"1\" class=\"dataframe\">\n  <thead>\n    <tr style=\"text-align: right;\">\n      <th></th>\n      <th>PostalCode</th>\n      <th>Bourough</th>\n      <th>Neighborhood</th>\n      <th>Latitude</th>\n      <th>Longitude</th>\n    </tr>\n  </thead>\n  <tbody>\n  </tbody>\n</table>\n</div>",
                        "text/plain": "Empty DataFrame\nColumns: [PostalCode, Bourough, Neighborhood, Latitude, Longitude]\nIndex: []"
                    },
                    "execution_count": 3,
                    "metadata": {},
                    "output_type": "execute_result"
                }
            ],
            "source": "# Load Toronto geospatial cooridinates\n!wget -O to_geo_space.csv http://cocl.us/Geospatial_data\n\n#Read into dataframe\ngf = pd.read_csv('to_geo_space.csv')\n\n#rename the coloumns so the match\ngf = gf.rename(columns={'Postal Code':'PostalCode'})\n\n#Merge the Toronto data with geo cooridinate data\ngf_new = pd.merge(df2, gf, on='PostalCode', how='inner')\n\n# display the new dataframe\ngf_new.head()"
        },
        {
            "cell_type": "markdown",
            "metadata": {},
            "source": "### Toronto neighborhoods populations broken down by postal code"
        },
        {
            "cell_type": "code",
            "execution_count": 4,
            "metadata": {},
            "outputs": [
                {
                    "data": {
                        "text/html": "<div>\n<style scoped>\n    .dataframe tbody tr th:only-of-type {\n        vertical-align: middle;\n    }\n\n    .dataframe tbody tr th {\n        vertical-align: top;\n    }\n\n    .dataframe thead th {\n        text-align: right;\n    }\n</style>\n<table border=\"1\" class=\"dataframe\">\n  <thead>\n    <tr style=\"text-align: right;\">\n      <th></th>\n      <th>PostalCode</th>\n      <th>Population_2016</th>\n    </tr>\n  </thead>\n  <tbody>\n    <tr>\n      <th>1</th>\n      <td>A0A</td>\n      <td>46587.0</td>\n    </tr>\n    <tr>\n      <th>2</th>\n      <td>A0B</td>\n      <td>19792.0</td>\n    </tr>\n    <tr>\n      <th>3</th>\n      <td>A0C</td>\n      <td>12587.0</td>\n    </tr>\n    <tr>\n      <th>4</th>\n      <td>A0E</td>\n      <td>22294.0</td>\n    </tr>\n    <tr>\n      <th>5</th>\n      <td>A0G</td>\n      <td>35266.0</td>\n    </tr>\n  </tbody>\n</table>\n</div>",
                        "text/plain": "  PostalCode  Population_2016\n1        A0A          46587.0\n2        A0B          19792.0\n3        A0C          12587.0\n4        A0E          22294.0\n5        A0G          35266.0"
                    },
                    "execution_count": 4,
                    "metadata": {},
                    "output_type": "execute_result"
                }
            ],
            "source": "# Load this data from Stats Canada\ndf_pop = pd.read_csv('https://www12.statcan.gc.ca/census-recensement/2016/dp-pd/hlt-fst/pd-pl/Tables/File.cfm?T=1201&SR=1&RPP=9999&PR=0&CMA=0&CSD=0&S=22&O=A&Lang=Eng&OFT=CSV',encoding = 'unicode_escape')\n# Rename the columns appropiatley\ndf_pop = df_pop.rename(columns={'Geographic code':'PostalCode', 'Geographic name':'PostalCod2', 'Province or territory':'Province', 'Incompletely enumerated Indian reserves and Indian settlements, 2016':'Incomplete', 'Population, 2016':'Population_2016', 'Total private dwellings, 2016':'TotalPrivDwellings', 'Private dwellings occupied by usual residents, 2016':'PrivDwellingsOccupied'})\ndf_pop= df_pop.drop(columns=['PostalCod2', 'Province', 'Incomplete', 'TotalPrivDwellings', 'PrivDwellingsOccupied'])\n\n# Get rid of the first row \ndf_pop = df_pop.iloc[1:]\ndf_pop.head()"
        },
        {
            "cell_type": "markdown",
            "metadata": {},
            "source": "Combination of Toronto Neighbourhood populations data with Toronto Postal Code data from csv file"
        },
        {
            "cell_type": "code",
            "execution_count": 5,
            "metadata": {},
            "outputs": [
                {
                    "data": {
                        "text/html": "<div>\n<style scoped>\n    .dataframe tbody tr th:only-of-type {\n        vertical-align: middle;\n    }\n\n    .dataframe tbody tr th {\n        vertical-align: top;\n    }\n\n    .dataframe thead th {\n        text-align: right;\n    }\n</style>\n<table border=\"1\" class=\"dataframe\">\n  <thead>\n    <tr style=\"text-align: right;\">\n      <th></th>\n      <th>PostalCode</th>\n      <th>Population_2016</th>\n      <th>Bourough</th>\n      <th>Neighborhood</th>\n      <th>Latitude</th>\n      <th>Longitude</th>\n    </tr>\n  </thead>\n  <tbody>\n  </tbody>\n</table>\n</div>",
                        "text/plain": "Empty DataFrame\nColumns: [PostalCode, Population_2016, Bourough, Neighborhood, Latitude, Longitude]\nIndex: []"
                    },
                    "execution_count": 5,
                    "metadata": {},
                    "output_type": "execute_result"
                }
            ],
            "source": "#Merge the Toronto Pop data with geo postalcode data\ngf_new\ngf_new = pd.merge(df_pop, gf_new, on='PostalCode', how='right')\n# sort on population\ngf_new = gf_new.sort_values(by=['Population_2016'], ascending=False)\n\n# display the new dataframe\ngf_new.head()"
        },
        {
            "cell_type": "markdown",
            "metadata": {},
            "source": "Toronto Neighbourhood income after tax data with Toronto Postal Code data"
        },
        {
            "cell_type": "code",
            "execution_count": 6,
            "metadata": {},
            "outputs": [
                {
                    "data": {
                        "text/html": "<div>\n<style scoped>\n    .dataframe tbody tr th:only-of-type {\n        vertical-align: middle;\n    }\n\n    .dataframe tbody tr th {\n        vertical-align: top;\n    }\n\n    .dataframe thead th {\n        text-align: right;\n    }\n</style>\n<table border=\"1\" class=\"dataframe\">\n  <thead>\n    <tr style=\"text-align: right;\">\n      <th></th>\n      <th>PostalCode</th>\n      <th>Yearly Income After Tax</th>\n    </tr>\n  </thead>\n  <tbody>\n    <tr>\n      <th>0</th>\n      <td>M1A</td>\n      <td>Null</td>\n    </tr>\n    <tr>\n      <th>1</th>\n      <td>M2A</td>\n      <td>Null</td>\n    </tr>\n    <tr>\n      <th>2</th>\n      <td>M3A</td>\n      <td>57698</td>\n    </tr>\n    <tr>\n      <th>3</th>\n      <td>M4A</td>\n      <td>49453</td>\n    </tr>\n    <tr>\n      <th>4</th>\n      <td>M5A</td>\n      <td>46938</td>\n    </tr>\n  </tbody>\n</table>\n</div>",
                        "text/plain": "  PostalCode Yearly Income After Tax \n0        M1A                     Null\n1        M2A                     Null\n2        M3A                    57698\n3        M4A                    49453\n4        M5A                    46938"
                    },
                    "execution_count": 6,
                    "metadata": {},
                    "output_type": "execute_result"
                }
            ],
            "source": "# The code was removed by Watson Studio for sharing."
        },
        {
            "cell_type": "markdown",
            "metadata": {},
            "source": "Combination of Toronto Neighbourhood income data with Toronto Postal Code data"
        },
        {
            "cell_type": "code",
            "execution_count": 7,
            "metadata": {},
            "outputs": [
                {
                    "data": {
                        "text/html": "<div>\n<style scoped>\n    .dataframe tbody tr th:only-of-type {\n        vertical-align: middle;\n    }\n\n    .dataframe tbody tr th {\n        vertical-align: top;\n    }\n\n    .dataframe thead th {\n        text-align: right;\n    }\n</style>\n<table border=\"1\" class=\"dataframe\">\n  <thead>\n    <tr style=\"text-align: right;\">\n      <th></th>\n      <th>PostalCode</th>\n      <th>Income After Tax</th>\n      <th>Population</th>\n      <th>Bourough</th>\n      <th>Neighborhood</th>\n      <th>Latitude</th>\n      <th>Longitude</th>\n    </tr>\n  </thead>\n  <tbody>\n    <tr>\n      <th>0</th>\n      <td>M2P</td>\n      <td>115237</td>\n      <td>7843</td>\n      <td>North York</td>\n      <td>York Mills West</td>\n      <td>43.752758</td>\n      <td>-79.400049</td>\n    </tr>\n    <tr>\n      <th>1</th>\n      <td>M5M</td>\n      <td>111821</td>\n      <td>25975</td>\n      <td>North York</td>\n      <td>Bedford Park, Lawrence Manor East</td>\n      <td>43.733283</td>\n      <td>-79.419750</td>\n    </tr>\n    <tr>\n      <th>2</th>\n      <td>M4N</td>\n      <td>109841</td>\n      <td>15330</td>\n      <td>Central Toronto</td>\n      <td>Lawrence Park</td>\n      <td>43.728020</td>\n      <td>-79.388790</td>\n    </tr>\n    <tr>\n      <th>3</th>\n      <td>M5R</td>\n      <td>108271</td>\n      <td>26496</td>\n      <td>Central Toronto</td>\n      <td>The Annex, North Midtown, Yorkville</td>\n      <td>43.672710</td>\n      <td>-79.405678</td>\n    </tr>\n    <tr>\n      <th>4</th>\n      <td>M8X</td>\n      <td>97210</td>\n      <td>10787</td>\n      <td>Etobicoke</td>\n      <td>The Kingsway, Montgomery Road, Old Mill North</td>\n      <td>43.653654</td>\n      <td>-79.506944</td>\n    </tr>\n  </tbody>\n</table>\n</div>",
                        "text/plain": "  PostalCode  Income After Tax  Population         Bourough  \\\n0        M2P            115237        7843       North York   \n1        M5M            111821       25975       North York   \n2        M4N            109841       15330  Central Toronto   \n3        M5R            108271       26496  Central Toronto   \n4        M8X             97210       10787        Etobicoke   \n\n                                    Neighborhood   Latitude  Longitude  \n0                                York Mills West  43.752758 -79.400049  \n1              Bedford Park, Lawrence Manor East  43.733283 -79.419750  \n2                                  Lawrence Park  43.728020 -79.388790  \n3            The Annex, North Midtown, Yorkville  43.672710 -79.405678  \n4  The Kingsway, Montgomery Road, Old Mill North  43.653654 -79.506944  "
                    },
                    "execution_count": 7,
                    "metadata": {},
                    "output_type": "execute_result"
                }
            ],
            "source": "\nbody = client_05ec939e3b734088aef83ea67860081b.get_object(Bucket='battleoftheneighborhood2-donotdelete-pr-z9ulrxywbbpfpe',Key='Income Data 1.csv')['Body']\n# add missing __iter__ method, so pandas accepts body as file-like object\nif not hasattr(body, \"__iter__\"): body.__iter__ = types.MethodType( __iter__, body )\n\ndf_data_10 = pd.read_csv(body)\ndf_data_10.head()\n"
        },
        {
            "cell_type": "markdown",
            "metadata": {},
            "source": "Therefore the median income after tax is 57,000 dollars per year"
        },
        {
            "cell_type": "markdown",
            "metadata": {},
            "source": "#### Foursquare Credentials "
        },
        {
            "cell_type": "code",
            "execution_count": 8,
            "metadata": {},
            "outputs": [],
            "source": "CLIENT_ID = 'H4IENDZBKM12ZJN1B0TWFI3W2CZGV3YQV20FJKXPYVE4K5WC' \n\n\nCLIENT_SECRET = 'PZR23TJF5UJEUMBM3NYCAFR4K2JXPQN1WPNGN3LFQQU4GVMO' \n\n\nVERSION = '20210628'"
        },
        {
            "cell_type": "code",
            "execution_count": 9,
            "metadata": {},
            "outputs": [],
            "source": "#Let's explore neighborhoods in our dataframe.\nimport requests # library to handle requests\nfrom pandas.io.json import json_normalize # tranform JSON file into a pandas dataframe\n\nLIMIT = 200 # limit of number of venues returned by Foursquare API\n\nradius = 500 # define radius\n\ndef getNearbyVenues(names, latitudes, longitudes, radius=500):\n    \n    venues_list=[]\n    for name, lat, lng in zip(names, latitudes, longitudes):\n        print(name)\n            \n        # create the API request URL\n        url = 'https://api.foursquare.com/v2/venues/explore?&client_id={}&client_secret={}&v={}&ll={},{}&radius={}&limit={}'.format(\n            CLIENT_ID, \n            CLIENT_SECRET, \n            VERSION, \n            lat, \n            lng, \n            radius, \n            LIMIT)\n            \n        # make the GET request\n        results = requests.get(url).json()[\"response\"]['groups'][0]['items']\n        \n        # return only relevant information for each nearby venue\n        venues_list.append([(\n            name, \n            lat, \n            lng, \n            v['venue']['name'], \n            v['venue']['location']['lat'], \n            v['venue']['location']['lng'],  \n            v['venue']['categories'][0]['name']) for v in results])\n\n    nearby_venues = pd.DataFrame([item for venue_list in venues_list for item in venue_list])\n    nearby_venues.columns = ['Neighborhood', \n                  'Neighborhood Latitude', \n                  'Neighborhood Longitude', \n                  'Venue', \n                  'Venue Latitude', \n                  'Venue Longitude', \n                  'Venue Category']\n    \n    return(nearby_venues)"
        },
        {
            "cell_type": "code",
            "execution_count": 10,
            "metadata": {},
            "outputs": [
                {
                    "data": {
                        "text/html": "<div>\n<style scoped>\n    .dataframe tbody tr th:only-of-type {\n        vertical-align: middle;\n    }\n\n    .dataframe tbody tr th {\n        vertical-align: top;\n    }\n\n    .dataframe thead th {\n        text-align: right;\n    }\n</style>\n<table border=\"1\" class=\"dataframe\">\n  <thead>\n    <tr style=\"text-align: right;\">\n      <th></th>\n      <th>PostalCode</th>\n      <th>Yearly Income After Tax</th>\n      <th>Population</th>\n      <th>Bourough</th>\n      <th>Neighborhood</th>\n      <th>Latitude</th>\n      <th>Longitude</th>\n    </tr>\n  </thead>\n  <tbody>\n    <tr>\n      <th>0</th>\n      <td>M2P</td>\n      <td>115237</td>\n      <td>7843</td>\n      <td>North York</td>\n      <td>York Mills West</td>\n      <td>43.752758</td>\n      <td>-79.400049</td>\n    </tr>\n    <tr>\n      <th>1</th>\n      <td>M5M</td>\n      <td>111821</td>\n      <td>25975</td>\n      <td>North York</td>\n      <td>Bedford Park, Lawrence Manor East</td>\n      <td>43.733283</td>\n      <td>-79.419750</td>\n    </tr>\n    <tr>\n      <th>2</th>\n      <td>M4N</td>\n      <td>109841</td>\n      <td>15330</td>\n      <td>Central Toronto</td>\n      <td>Lawrence Park</td>\n      <td>43.728020</td>\n      <td>-79.388790</td>\n    </tr>\n    <tr>\n      <th>3</th>\n      <td>M5R</td>\n      <td>108271</td>\n      <td>26496</td>\n      <td>Central Toronto</td>\n      <td>The Annex, North Midtown, Yorkville</td>\n      <td>43.672710</td>\n      <td>-79.405678</td>\n    </tr>\n    <tr>\n      <th>4</th>\n      <td>M8X</td>\n      <td>97210</td>\n      <td>10787</td>\n      <td>Etobicoke</td>\n      <td>The Kingsway, Montgomery Road, Old Mill North</td>\n      <td>43.653654</td>\n      <td>-79.506944</td>\n    </tr>\n  </tbody>\n</table>\n</div>",
                        "text/plain": "  PostalCode  Yearly Income After Tax  Population         Bourough  \\\n0        M2P                   115237        7843       North York   \n1        M5M                   111821       25975       North York   \n2        M4N                   109841       15330  Central Toronto   \n3        M5R                   108271       26496  Central Toronto   \n4        M8X                    97210       10787        Etobicoke   \n\n                                    Neighborhood   Latitude  Longitude  \n0                                York Mills West  43.752758 -79.400049  \n1              Bedford Park, Lawrence Manor East  43.733283 -79.419750  \n2                                  Lawrence Park  43.728020 -79.388790  \n3            The Annex, North Midtown, Yorkville  43.672710 -79.405678  \n4  The Kingsway, Montgomery Road, Old Mill North  43.653654 -79.506944  "
                    },
                    "execution_count": 10,
                    "metadata": {},
                    "output_type": "execute_result"
                }
            ],
            "source": "\nbody = client_05ec939e3b734088aef83ea67860081b.get_object(Bucket='battleoftheneighborhood2-donotdelete-pr-z9ulrxywbbpfpe',Key='Income Data 2.csv')['Body']\n# add missing __iter__ method, so pandas accepts body as file-like object\nif not hasattr(body, \"__iter__\"): body.__iter__ = types.MethodType( __iter__, body )\n\ndf_data_8 = pd.read_csv(body)\ndf_data_8.head()\n"
        },
        {
            "cell_type": "markdown",
            "metadata": {},
            "source": "#### Get all the Venues in Toronto"
        },
        {
            "cell_type": "code",
            "execution_count": 12,
            "metadata": {},
            "outputs": [
                {
                    "data": {
                        "text/html": "<div>\n<style scoped>\n    .dataframe tbody tr th:only-of-type {\n        vertical-align: middle;\n    }\n\n    .dataframe tbody tr th {\n        vertical-align: top;\n    }\n\n    .dataframe thead th {\n        text-align: right;\n    }\n</style>\n<table border=\"1\" class=\"dataframe\">\n  <thead>\n    <tr style=\"text-align: right;\">\n      <th></th>\n      <th>Neighborhood Latitude</th>\n      <th>Neighborhood Longitude</th>\n      <th>Venue</th>\n      <th>Venue Latitude</th>\n      <th>Venue Longitude</th>\n      <th>Venue Category</th>\n      <th>Unnamed: 6</th>\n    </tr>\n  </thead>\n  <tbody>\n    <tr>\n      <th>0</th>\n      <td>Adelaide, King, Richmond</td>\n      <td>100</td>\n      <td>100</td>\n      <td>100</td>\n      <td>100</td>\n      <td>100</td>\n      <td>100</td>\n    </tr>\n    <tr>\n      <th>1</th>\n      <td>Agincourt</td>\n      <td>4</td>\n      <td>4</td>\n      <td>4</td>\n      <td>4</td>\n      <td>4</td>\n      <td>4</td>\n    </tr>\n    <tr>\n      <th>2</th>\n      <td>Agincourt North, L'Amoreaux East, Milliken, St...</td>\n      <td>2</td>\n      <td>2</td>\n      <td>2</td>\n      <td>2</td>\n      <td>2</td>\n      <td>2</td>\n    </tr>\n    <tr>\n      <th>3</th>\n      <td>Albion Gardens, Beaumond Heights, Humbergate, ...</td>\n      <td>10</td>\n      <td>10</td>\n      <td>10</td>\n      <td>10</td>\n      <td>10</td>\n      <td>10</td>\n    </tr>\n    <tr>\n      <th>4</th>\n      <td>Alderwood, Long Branch</td>\n      <td>10</td>\n      <td>10</td>\n      <td>10</td>\n      <td>10</td>\n      <td>10</td>\n      <td>10</td>\n    </tr>\n  </tbody>\n</table>\n</div>",
                        "text/plain": "                               Neighborhood Latitude Neighborhood Longitude  \\\n0                           Adelaide, King, Richmond                    100   \n1                                          Agincourt                      4   \n2  Agincourt North, L'Amoreaux East, Milliken, St...                      2   \n3  Albion Gardens, Beaumond Heights, Humbergate, ...                     10   \n4                             Alderwood, Long Branch                     10   \n\n  Venue Venue Latitude Venue Longitude Venue Category Unnamed: 6  \n0   100            100             100            100        100  \n1     4              4               4              4          4  \n2     2              2               2              2          2  \n3    10             10              10             10         10  \n4    10             10              10             10         10  "
                    },
                    "execution_count": 12,
                    "metadata": {},
                    "output_type": "execute_result"
                }
            ],
            "source": "\nbody = client_05ec939e3b734088aef83ea67860081b.get_object(Bucket='battleoftheneighborhood2-donotdelete-pr-z9ulrxywbbpfpe',Key='Neighborhood.csv')['Body']\n# add missing __iter__ method, so pandas accepts body as file-like object\nif not hasattr(body, \"__iter__\"): body.__iter__ = types.MethodType( __iter__, body )\n\ndf_data_11 = pd.read_csv(body)\ndf_data_11.head()\n"
        }
    ],
    "metadata": {
        "kernelspec": {
            "display_name": "Python 3.7",
            "language": "python",
            "name": "python3"
        },
        "language_info": {
            "codemirror_mode": {
                "name": "ipython",
                "version": 3
            },
            "file_extension": ".py",
            "mimetype": "text/x-python",
            "name": "python",
            "nbconvert_exporter": "python",
            "pygments_lexer": "ipython3",
            "version": "3.7.10"
        }
    },
    "nbformat": 4,
    "nbformat_minor": 1
}