{
    "cells": [
        {
            "cell_type": "markdown",
            "metadata": {
                "collapsed": true
            },
            "source": "# FULL REPORT"
        },
        {
            "cell_type": "markdown",
            "metadata": {},
            "source": "## Introduction\n"
        },
        {
            "cell_type": "markdown",
            "metadata": {},
            "source": "A small Grocery Store called Blenco has been doing well for some years now and want to expand and create other outlets across the state and are trying to determine which neighborhood in Toronto they should to start with."
        },
        {
            "cell_type": "markdown",
            "metadata": {},
            "source": "## Problem Statement"
        },
        {
            "cell_type": "markdown",
            "metadata": {},
            "source": "Which neighborhood should Blenco open thier new Grocery store in Toronto?"
        },
        {
            "cell_type": "markdown",
            "metadata": {},
            "source": "## Conditions"
        },
        {
            "cell_type": "markdown",
            "metadata": {},
            "source": "1.) The store needs to be located in a strategic area in Toronto region that is close to residential Estates and Schools\n\n2.) Confirm any assumption by means of modeling and testing the data.\n\n3.) To ensure that people have easy access to the store and it's in a safe neighborhood\n\n  a.) Is it a highly populated neighborhood?\n  \n  b.) The average salary has to be equal to or greater than the Canadian National             Average to show the purchasing power of people in the neighborhood\n  \n4.) Locating a new store according to the above conditions will ensure the following:\n\n  i. Easy access for customers as it is within residential Estates\n  \n  ii. Increase in sales and number of customers\n  \n  iii. Increase in weekend customers due to close proximity with residential areas."
        },
        {
            "cell_type": "markdown",
            "metadata": {},
            "source": "## Data Requirements"
        },
        {
            "cell_type": "markdown",
            "metadata": {},
            "source": "1.) This is a list from Wikipedia of Toronto neighborhoods broken down according to the postal code https://en.wikipedia.org/wiki/List_of_postal_codes_of_Canada:_M\n\n2.) List of the average population in Toronto neighborhoods by postal code https://www12.statcan.gc.ca/census-recensement/2016/dp-pd/hlt-fst/pd-pl/Tables/File.cfm?T=1201&SR=1&RPP=9999&PR=0&CMA=0&CSD=0&S=22&O=A&Lang=Eng&OFT=CSV\n\n3.) List of averge income after Tax deductions in Toronto neighborhoods according to postal code. https://www12.statcan.gc.ca/census-recensement/2016/dp-pd/prof/search-recherche/change-geo.cfm?Lang=E&Geo1=FSA\n\n4.) This is the National Average Income after Tax in Canada by Postal code https://www150.statcan.gc.ca/n1/daily-quotidien/180313/dq180313a-eng.htm\n\n5.) Here we can get the list of all Grocery Stores from all neighborhoods in Toronto by Postal code using th foursqaure API https://api.foursquare.com\n\n6.) Put all of these information into a workable Data Set for clustering and for Geo-Spatial mapping of the results showing the best neighborhood to open a Grocery Store\n\nCombining all of these data sets will result the following:\n\n   a. The neighborhoods in Toronto have clusters of stores\n   \n   b. The population of every neighborhood\n   \n   c. The average income after tax per person in these neighborhoods\n   \n   d. What neighborhood should be targetted by Blenco inorder to open a new store."
        },
        {
            "cell_type": "markdown",
            "metadata": {},
            "source": "##  Methodology"
        },
        {
            "cell_type": "markdown",
            "metadata": {},
            "source": "### Algorithm"
        },
        {
            "cell_type": "markdown",
            "metadata": {},
            "source": "K-Means Clustering https://towardsdatascience.com/clustering-algorithms-for-customer-segmentation-af637c6830ac "
        },
        {
            "cell_type": "markdown",
            "metadata": {},
            "source": "### Choosing the correct number of clusters"
        },
        {
            "cell_type": "markdown",
            "metadata": {},
            "source": "use Silhouette analysis to determine the optimum number of clusters to use. https://www.jeremyjordan.me/grouping-data-points-with-k-means-clustering/ \n"
        },
        {
            "cell_type": "markdown",
            "metadata": {},
            "source": "## Run K means and segment data into clusters and generate labels"
        },
        {
            "cell_type": "markdown",
            "metadata": {},
            "source": "## Merge the Toronto data with geo coordinates data and make sure it's the right shape"
        },
        {
            "cell_type": "markdown",
            "metadata": {},
            "source": "Reshape the Toronto data in order for it to matche the clustered data"
        },
        {
            "cell_type": "markdown",
            "metadata": {},
            "source": "### Add the KMeans Labels"
        },
        {
            "cell_type": "markdown",
            "metadata": {},
            "source": "Determine the largest cluster in this case it was cluster number 2 with a shape of (76, 15)"
        },
        {
            "cell_type": "markdown",
            "metadata": {},
            "source": "### Cluster 2 Contains the highest cluster density. We need to find the geographic centroid for this cluster. This is the optimum location for a new Grocery Store."
        },
        {
            "cell_type": "markdown",
            "metadata": {},
            "source": "Here we take the average latitude and longitude to be the centroid."
        },
        {
            "cell_type": "markdown",
            "metadata": {},
            "source": "### Install opencage to reverse lookup the coordinates"
        },
        {
            "cell_type": "markdown",
            "metadata": {},
            "source": "## Results"
        },
        {
            "cell_type": "markdown",
            "metadata": {},
            "source": "Plot the clusters on a Map of the Toronto and Super Impose the best location of a Store"
        },
        {
            "cell_type": "markdown",
            "metadata": {},
            "source": "### Best Address of the desired Location"
        },
        {
            "cell_type": "markdown",
            "metadata": {},
            "source": "## Observations"
        },
        {
            "cell_type": "markdown",
            "metadata": {},
            "source": "By comparing our list of neighborhoods with Grocery store locations, it was discovered that most neighborhoods were similar and the greatest concentration of stores are in Central Toronto and downtown Toronto regions respectively. This might seem obvious but it would also appear that these are some of the most respected and safe neighborhoods in Toronto so it is correlation with the objective. By opening a store in the general premises of the exact location Blenco would be geographically centered in this cluster and assured to cater to a large amount of customers with optimum efficiency.\n\nBuilding our our K-Means dataset using Silhouette analysis, tells us there is a lot of similarity between neighborhoods and the most common stores contained with in. Really there is only 2 types of clusters or neighborhoods in greater Toronto. The vast majority of them are in 1 cluster. So Toronto Grocery stores might be many but they are very similarly located near the center of Toronto.\n\nOut of the 103 Toronto Neighborhoods gathered only 55.3% or 57 Neighborhoods are above the median income after tax. 37.8% or 39 Neighborhoods are below this median 6.7% or 7 neighborhoods did not register as it seems their populations are quite low. It shows that the greatest concentration of wealthy people are in central Toronto. Blenco can keep all neighborhoods in the dataset regardless of income of population as the majority were close enough."
        },
        {
            "cell_type": "markdown",
            "metadata": {},
            "source": "## Conclusion"
        },
        {
            "cell_type": "markdown",
            "metadata": {},
            "source": "With a high degree of confidence from the observations above as it is backed up by data, while one can ever be 100% certain Blenco will definitely be better informed on how to go about opening thier new store"
        },
        {
            "cell_type": "code",
            "execution_count": null,
            "metadata": {},
            "outputs": [],
            "source": ""
        }
    ],
    "metadata": {
        "kernelspec": {
            "display_name": "Python 3.7",
            "language": "python",
            "name": "python3"
        },
        "language_info": {
            "codemirror_mode": {
                "name": "ipython",
                "version": 3
            },
            "file_extension": ".py",
            "mimetype": "text/x-python",
            "name": "python",
            "nbconvert_exporter": "python",
            "pygments_lexer": "ipython3",
            "version": "3.7.10"
        }
    },
    "nbformat": 4,
    "nbformat_minor": 1
}