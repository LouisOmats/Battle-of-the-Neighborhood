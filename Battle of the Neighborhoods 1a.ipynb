{
    "cells": [
        {
            "cell_type": "markdown",
            "metadata": {
                "collapsed": true
            },
            "source": "# A Description of the Problem and the Background"
        },
        {
            "cell_type": "markdown",
            "metadata": {},
            "source": "## Introduction"
        },
        {
            "cell_type": "markdown",
            "metadata": {},
            "source": "A small Grocery Store called Blenco has been doing well for some years now and want to expand and create other outlets across the state and are trying to determine which neighborhood in Toronto they should to start with."
        },
        {
            "cell_type": "markdown",
            "metadata": {},
            "source": "## Problem Description"
        },
        {
            "cell_type": "markdown",
            "metadata": {},
            "source": "Which neighborhood should Blenco open thier new Grocery store in Toronto? "
        },
        {
            "cell_type": "markdown",
            "metadata": {},
            "source": "## Conditions"
        },
        {
            "cell_type": "markdown",
            "metadata": {},
            "source": "1.) The store needs to be located in a strategic area in Toronto region that is close to residential Estates and Schools"
        },
        {
            "cell_type": "markdown",
            "metadata": {},
            "source": "2.) Confirm any assumption by means of modeling and testing the data. "
        },
        {
            "cell_type": "markdown",
            "metadata": {},
            "source": "3.) To ensure that people have easy access to the store and it's in a safe neighborhood\n\n   a.) Is it a highly populated neighborhood?\n\n   b.) The average salary has to be equal to or greater than the Canadian National Average to show the purchasing power of people in the neighborhood\n"
        },
        {
            "cell_type": "markdown",
            "metadata": {},
            "source": "4.) Locating a new store according to the above conditions will ensure the following:\n\n  i. Easy access for customers as it is within residential Estates\n\n  ii. Increase in sales and number of customers\n \n  iii. Increase in weekend customers due to close proximity with residential areas. "
        }
    ],
    "metadata": {
        "kernelspec": {
            "display_name": "Python 3.7",
            "language": "python",
            "name": "python3"
        },
        "language_info": {
            "codemirror_mode": {
                "name": "ipython",
                "version": 3
            },
            "file_extension": ".py",
            "mimetype": "text/x-python",
            "name": "python",
            "nbconvert_exporter": "python",
            "pygments_lexer": "ipython3",
            "version": "3.7.10"
        }
    },
    "nbformat": 4,
    "nbformat_minor": 1
}