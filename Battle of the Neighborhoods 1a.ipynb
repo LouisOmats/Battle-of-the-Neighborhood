{
    "cells": [
        {
            "cell_type": "markdown",
            "metadata": {
                "collapsed": true
            },
            "source": "# A Description of the Problem and the Background"
        },
        {
            "cell_type": "markdown",
            "metadata": {},
            "source": "## Introduction"
        },
        {
            "cell_type": "markdown",
            "metadata": {},
            "source": "A small Grocery Store called Blenco has been doing well for some years now and want to expand and create other outlets across the state and are trying to determine which neighborhood in Toronto they should to start with."
        },
        {
            "cell_type": "markdown",
            "metadata": {},
            "source": "## Problem Description"
        },
        {
            "cell_type": "markdown",
            "metadata": {},
            "source": "Which neighborhood should Blenco open thier new Grocery store in Toronto? "
        },
        {
            "cell_type": "markdown",
            "metadata": {},
            "source": "## Requirements"
        },
        {
            "cell_type": "markdown",
            "metadata": {},
            "source": " 1. The store needs to be located in a strategic area in Toronto region that is close to residential Estates and Schools"
        },
        {
            "cell_type": "markdown",
            "metadata": {},
            "source": "2. Confirm any assumption by means of modeling and testing the data. "
        },
        {
            "cell_type": "markdown",
            "metadata": {},
            "source": "3. Additionally determine that a good number people can have easy access to the store in a safe neighborhood\n\n   a.) Is it a highly populated neighborhood?\n\n   b.) Is the neighborhood average salary equals to or greater than the Canadian National Average?\n"
        },
        {
            "cell_type": "markdown",
            "metadata": {},
            "source": "Locating his new store according to these requirements will ensure the following:\n\n 1. Easy access for customers as it is within residential Estates\n\n 2. Increase in overall business\n\n 3. Overall greater customer satisfaction\n \n 4. Increase in weekend customers."
        }
    ],
    "metadata": {
        "kernelspec": {
            "display_name": "Python 3.7",
            "language": "python",
            "name": "python3"
        },
        "language_info": {
            "codemirror_mode": {
                "name": "ipython",
                "version": 3
            },
            "file_extension": ".py",
            "mimetype": "text/x-python",
            "name": "python",
            "nbconvert_exporter": "python",
            "pygments_lexer": "ipython3",
            "version": "3.7.10"
        }
    },
    "nbformat": 4,
    "nbformat_minor": 1
}